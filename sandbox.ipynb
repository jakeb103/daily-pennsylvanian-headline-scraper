{
 "cells": [
  {
   "cell_type": "code",
   "execution_count": 4,
   "metadata": {},
   "outputs": [
    {
     "name": "stdout",
     "output_type": "stream",
     "text": [
      "Requirement already satisfied: bs4 in /Library/Frameworks/Python.framework/Versions/3.10/lib/python3.10/site-packages (0.0.2)\n",
      "Requirement already satisfied: beautifulsoup4 in /Library/Frameworks/Python.framework/Versions/3.10/lib/python3.10/site-packages (from bs4) (4.12.3)\n",
      "Requirement already satisfied: soupsieve>1.2 in /Library/Frameworks/Python.framework/Versions/3.10/lib/python3.10/site-packages (from beautifulsoup4->bs4) (2.5)\n",
      "\n",
      "\u001b[1m[\u001b[0m\u001b[34;49mnotice\u001b[0m\u001b[1;39;49m]\u001b[0m\u001b[39;49m A new release of pip is available: \u001b[0m\u001b[31;49m23.3.1\u001b[0m\u001b[39;49m -> \u001b[0m\u001b[32;49m24.0\u001b[0m\n",
      "\u001b[1m[\u001b[0m\u001b[34;49mnotice\u001b[0m\u001b[1;39;49m]\u001b[0m\u001b[39;49m To update, run: \u001b[0m\u001b[32;49mpip install --upgrade pip\u001b[0m\n",
      "Requirement already satisfied: requests in /Library/Frameworks/Python.framework/Versions/3.10/lib/python3.10/site-packages (2.28.1)\n",
      "Requirement already satisfied: charset-normalizer<3,>=2 in /Library/Frameworks/Python.framework/Versions/3.10/lib/python3.10/site-packages (from requests) (2.1.1)\n",
      "Requirement already satisfied: idna<4,>=2.5 in /Library/Frameworks/Python.framework/Versions/3.10/lib/python3.10/site-packages (from requests) (3.4)\n",
      "Requirement already satisfied: urllib3<1.27,>=1.21.1 in /Library/Frameworks/Python.framework/Versions/3.10/lib/python3.10/site-packages (from requests) (1.26.13)\n",
      "Requirement already satisfied: certifi>=2017.4.17 in /Library/Frameworks/Python.framework/Versions/3.10/lib/python3.10/site-packages (from requests) (2022.9.24)\n",
      "\n",
      "\u001b[1m[\u001b[0m\u001b[34;49mnotice\u001b[0m\u001b[1;39;49m]\u001b[0m\u001b[39;49m A new release of pip is available: \u001b[0m\u001b[31;49m23.3.1\u001b[0m\u001b[39;49m -> \u001b[0m\u001b[32;49m24.0\u001b[0m\n",
      "\u001b[1m[\u001b[0m\u001b[34;49mnotice\u001b[0m\u001b[1;39;49m]\u001b[0m\u001b[39;49m To update, run: \u001b[0m\u001b[32;49mpip install --upgrade pip\u001b[0m\n"
     ]
    }
   ],
   "source": [
    "!pip install bs4\n"
   ]
  },
  {
   "cell_type": "code",
   "execution_count": 5,
   "metadata": {},
   "outputs": [
    {
     "name": "stdout",
     "output_type": "stream",
     "text": [
      "Requirement already satisfied: requests in /Library/Frameworks/Python.framework/Versions/3.10/lib/python3.10/site-packages (2.28.1)\n",
      "Requirement already satisfied: charset-normalizer<3,>=2 in /Library/Frameworks/Python.framework/Versions/3.10/lib/python3.10/site-packages (from requests) (2.1.1)\n",
      "Requirement already satisfied: idna<4,>=2.5 in /Library/Frameworks/Python.framework/Versions/3.10/lib/python3.10/site-packages (from requests) (3.4)\n",
      "Requirement already satisfied: urllib3<1.27,>=1.21.1 in /Library/Frameworks/Python.framework/Versions/3.10/lib/python3.10/site-packages (from requests) (1.26.13)\n",
      "Requirement already satisfied: certifi>=2017.4.17 in /Library/Frameworks/Python.framework/Versions/3.10/lib/python3.10/site-packages (from requests) (2022.9.24)\n",
      "\n",
      "\u001b[1m[\u001b[0m\u001b[34;49mnotice\u001b[0m\u001b[1;39;49m]\u001b[0m\u001b[39;49m A new release of pip is available: \u001b[0m\u001b[31;49m23.3.1\u001b[0m\u001b[39;49m -> \u001b[0m\u001b[32;49m24.0\u001b[0m\n",
      "\u001b[1m[\u001b[0m\u001b[34;49mnotice\u001b[0m\u001b[1;39;49m]\u001b[0m\u001b[39;49m To update, run: \u001b[0m\u001b[32;49mpip install --upgrade pip\u001b[0m\n"
     ]
    }
   ],
   "source": [
    "!pip install requests"
   ]
  },
  {
   "cell_type": "code",
   "execution_count": 6,
   "metadata": {},
   "outputs": [],
   "source": [
    "import bs4, requests\n"
   ]
  },
  {
   "cell_type": "code",
   "execution_count": 15,
   "metadata": {},
   "outputs": [],
   "source": [
    "req = requests.get(\"https://www.thedp.com/section/opinion\")"
   ]
  },
  {
   "cell_type": "code",
   "execution_count": 16,
   "metadata": {},
   "outputs": [
    {
     "data": {
      "text/plain": [
       "200"
      ]
     },
     "execution_count": 16,
     "metadata": {},
     "output_type": "execute_result"
    }
   ],
   "source": [
    "req.status_code"
   ]
  },
  {
   "cell_type": "code",
   "execution_count": 17,
   "metadata": {},
   "outputs": [
    {
     "data": {
      "text/plain": [
       "True"
      ]
     },
     "execution_count": 17,
     "metadata": {},
     "output_type": "execute_result"
    }
   ],
   "source": [
    "req.ok"
   ]
  },
  {
   "cell_type": "code",
   "execution_count": null,
   "metadata": {},
   "outputs": [],
   "source": []
  },
  {
   "cell_type": "code",
   "execution_count": 30,
   "metadata": {},
   "outputs": [],
   "source": [
    "soup = bs4.BeautifulSoup(req.text, \"html.parser\")"
   ]
  },
  {
   "cell_type": "code",
   "execution_count": 44,
   "metadata": {},
   "outputs": [
    {
     "data": {
      "text/plain": [
       "[<h3 class=\"standard-link\"><a href=\"https://www.thedp.com/article/2024/03/penn-dining-mental-health-academics\">Hanadi Abdulkadir | How poor dining hall food shapes our mental and academic capabilities</a></h3>,\n",
       " <h3 class=\"standard-link\"><a href=\"https://www.thedp.com/article/2024/03/penn-artificial-intelligence-major-value\">Mritika Senthil | Why critics are missing the mark on Penn’s artificial intelligence major </a></h3>,\n",
       " <h3 class=\"standard-link\"><a href=\"https://www.thedp.com/article/2024/03/artificial-intelligence-major-penn-curriculum\">Akiva Berkowitz | An AI major by any other name </a></h3>,\n",
       " <h3 class=\"standard-link\"><a href=\"https://www.thedp.com/article/2024/02/penn-dining-action-safety-accessibility\">Eric Najera | Penn must take action to enhance the dining experience</a></h3>,\n",
       " <h3 class=\"standard-link\"><a href=\"https://www.thedp.com/article/2024/02/penn-diversity-community-segregation-division\">Zaid Alsubaiei | Does Penn’s diversity represent its sense of community?</a></h3>,\n",
       " <h3 class=\"standard-link\"><a href=\"https://www.thedp.com/article/2024/02/sidechat-perceptions-penn-culture\">Eliza Carroll | You are what you read: Sidechat’s impact on campus</a></h3>,\n",
       " <h3 class=\"standard-link\"><a href=\"https://www.thedp.com/article/2024/02/stand-with-chinatown-history-philly\">Cathy Li and Liala Sofi | History can’t repeat itself; stand with Chinatown</a></h3>,\n",
       " <h3 class=\"standard-link\"><a href=\"https://www.thedp.com/article/2024/02/academic-dishonesty-policy-fairness-solution\">Caroline Magdolen | “Everyone cheats.” What can we do about it?</a></h3>,\n",
       " <h3 class=\"standard-link\"><a href=\"https://www.thedp.com/article/2024/02/penn-ranking-prestige-public-sector\">Jack Lakis | What we can learn from Penn’s college ranking</a></h3>,\n",
       " <h3 class=\"standard-link\"><a href=\"https://www.thedp.com/article/2024/02/black-penn-clubs-spotlight-community\">Mia Vesely | Black Penn is vibrant this month and every month</a></h3>,\n",
       " <h3 class=\"standard-link\"><a href=\"https://www.thedp.com/article/2024/02/sorority-rush-diversity-greek-life\">Bernadine Kumi | I joined a sorority and I’m glad</a></h3>,\n",
       " <h3 class=\"standard-link\"><a href=\"https://www.thedp.com/article/2024/02/pre-major-advisor-disparity-quality\">Jessey Shin | “Why is your pre-major advisor so much better than mine?”</a></h3>,\n",
       " <h3 class=\"standard-link\"><a href=\"https://www.thedp.com/article/2024/02/diverse-narratives-black-history-month-reads\">Raheem Williams | Embracing diverse narratives during Black History Month</a></h3>,\n",
       " <h3 class=\"standard-link\"><a href=\"https://www.thedp.com/article/2024/02/penn-liberal-arts-elite-jobs-prestige\">Francesco Salamone | Is Penn about liberal arts or elite jobs?</a></h3>,\n",
       " <h3 class=\"standard-link\"><a href=\"https://www.thedp.com/article/2024/02/american-diet-international-students-challenge\">Mariana Martinez | Paying the toll of the American diet</a></h3>,\n",
       " <h3 class=\"standard-link\"><a href=\"https://www.thedp.com/article/2024/02/new-club-hurdles-penn-adminstration\">Chapin Lenthall-Cleary | The Penn administration farcically mistreats new student clubs</a></h3>,\n",
       " <h3 class=\"standard-link\"><a href=\"https://www.thedp.com/article/2024/02/penn-forward-vision-academic-ideological\">Jonathan Klick | More of a declaration than a constitution</a></h3>,\n",
       " <h3 class=\"standard-link\"><a href=\"https://www.thedp.com/article/2024/02/college-sector-requirements-inflexible-penn\">Franklin Li | Rethinking College sector requirements</a></h3>,\n",
       " <h3 class=\"standard-link\"><a href=\"https://www.thedp.com/article/2024/02/love-campus-alumni-penn-stories\">Chloe Chen | Love is alive at Penn</a></h3>,\n",
       " <h3 class=\"standard-link\"><a href=\"https://www.thedp.com/article/2024/02/xenophobia-congress-tech-ceo-racism\">Emily Chang | No, Senator, not all Asians are Chinese </a></h3>]"
      ]
     },
     "execution_count": 44,
     "metadata": {},
     "output_type": "execute_result"
    }
   ],
   "source": [
    "soup.find_all(\"h3\", class_ = \"standard-link\")"
   ]
  },
  {
   "cell_type": "code",
   "execution_count": 45,
   "metadata": {},
   "outputs": [],
   "source": [
    "tag = soup.find_all(\"h3\", class_=\"standard-link\")"
   ]
  },
  {
   "cell_type": "code",
   "execution_count": 50,
   "metadata": {},
   "outputs": [
    {
     "data": {
      "text/plain": [
       "'https://www.thedp.com/article/2024/03/penn-dining-mental-health-academics'"
      ]
     },
     "execution_count": 50,
     "metadata": {},
     "output_type": "execute_result"
    }
   ],
   "source": [
    "tag[0].find('a').get('href')"
   ]
  },
  {
   "cell_type": "code",
   "execution_count": 51,
   "metadata": {},
   "outputs": [],
   "source": [
    "req2 = requests.get(tag[0].find('a').get('href'))"
   ]
  },
  {
   "cell_type": "code",
   "execution_count": 53,
   "metadata": {},
   "outputs": [],
   "source": [
    "soup2 = bs4.BeautifulSoup(req2.text, \"html.parser\")"
   ]
  },
  {
   "cell_type": "code",
   "execution_count": 57,
   "metadata": {},
   "outputs": [],
   "source": [
    "article_info = soup2.find(\"article\")"
   ]
  },
  {
   "cell_type": "code",
   "execution_count": 59,
   "metadata": {},
   "outputs": [],
   "source": [
    "paragraphs = article_info.find_all(\"p\")"
   ]
  },
  {
   "cell_type": "code",
   "execution_count": 63,
   "metadata": {},
   "outputs": [
    {
     "name": "stdout",
     "output_type": "stream",
     "text": [
      "At this point, many Penn students have lived the terrible dining stories at a number of halls across campus. While it’s important to discuss the health and sanitary risks associated with some of these concerns, it’s also necessary to break down how this problem factors into students’ academic and mental well-being. \n",
      "Opening Sidechat every few days to see yet another picture of undercooked meat or hearing horror stories from my friends dissuades me from trekking across campus to eat at many of our dining halls. Oftentimes, I find myself skipping meals or stretching the time out between each one — until I accept the fact that I’ll be eating the same food I already ate a couple times that week. Does this mean that I’m probably missing out on some of the necessary vitamins or fiber I should be getting daily? Probably.\n",
      "\t\tNumerous Penn Dining Wellness emails live in our inboxes with tips on improving digestive health and practicing better healthy habits in our daily lives. Additionally, the official page for Penn Dining boasts awards and recognitions for sustainability and top college dining. However, the pristine and glossy promotional pictures of sandwiches, smoothies, and breakfast bowls tell a completely different story from the reality on campus.\n",
      "With two of the most historical repeat offenders — Hill House and 1920 Commons — being the only consistent options available for on campus dining during the weekend, it’s much more convenient to resort to the other retail spots scattered around campus. However, some of these locations are far apart, depending on where you live, and can add additional costs to weekly expenses.  \n",
      "\t\t\t\tSEE MORE FROM HANADI ABDULKADIR:﻿Penn should require an African American history courseWhy social media and Palestinian activism goes hand in handAdditionally, for students who are dishing out a hefty sum of money to enroll in the dining plan, going out of their way to seek expensive alternatives takes away money that could’ve been better spent elsewhere. Considering that first years and sophomores are required to pick a dining plan for their first two years at Penn, it’s no wonder that students have consistently called for the food standards to match the high prices of these meal swipes. Ideally, no student should feel like they need to resort to options outside of Penn; rather, outside options should be supplemental to an already quality level of options at all dining halls. \n",
      "Since coming to Penn, my relationship with food has become much more complex. I need to look twice when picking out a seemingly clean utensil to eat whatever is on my plate or stare extra hard at my salad with suspicion before consuming it. But growing up, food was always a way for me to connect with my family and friends, to bring us back together even when we hadn’t seen each other in a long time. Yet the food at Penn, at its worst, has left me frustrated and succeeded at suppressing my appetite — something I actually can relate to other students about.\n",
      "\tAlthough certain foods are scientifically linked to improving mental clarity and focus, I hesitate in reaching for those vegetables because they don’t look as fresh or appetizing when lined up on display in Kings Court English House. As a result, I look for short-term solutions in coffee, which leaves me feeling tired earlier in the day or exhausted while trying to tackle my assignments at night. In order to meet my immediate deadlines, I prioritize some assignments over others, meaning some classes suffer in academic performance and perpetuate an almost never-ending cycle of playing catch-up. I believe that the root cause of all these problems can be traced back to the lack of decent dining. \n",
      "This same sentiment has been echoed by many of my friends and peers. But the dining quality at Penn can be mitigated if the University addresses the root problem. Whether that be promoting clean and sanitary workspaces when handling food or streamlining student complaints to Penn Dining other than through email, the University can restore student faith in the system. When it comes to campus dining, Penn can improve upon our experiences by implementing the changes that students deserve to enjoy, especially at the height of midterm season.\n",
      "HANADI ABDULKADIR is a College sophomore studying international relations from Philadelphia. Her email is hanadia@sas.upenn.edu.\n",
      "The Daily Pennsylvanian is an independent, student-run newspaper. Please consider making a donation to support the coverage that shapes the University. Your generosity ensures a future of strong journalism at Penn.\n"
     ]
    }
   ],
   "source": [
    "full_text = \"\"\n",
    "for paragraph in paragraphs:\n",
    "    full_text += paragraph.text\n",
    "print(full_text)"
   ]
  },
  {
   "cell_type": "code",
   "execution_count": null,
   "metadata": {},
   "outputs": [],
   "source": []
  }
 ],
 "metadata": {
  "kernelspec": {
   "display_name": "basic-git-scraper-template-LGElyA45",
   "language": "python",
   "name": "python3"
  },
  "language_info": {
   "codemirror_mode": {
    "name": "ipython",
    "version": 3
   },
   "file_extension": ".py",
   "mimetype": "text/x-python",
   "name": "python",
   "nbconvert_exporter": "python",
   "pygments_lexer": "ipython3",
   "version": "3.10.6"
  }
 },
 "nbformat": 4,
 "nbformat_minor": 2
}
